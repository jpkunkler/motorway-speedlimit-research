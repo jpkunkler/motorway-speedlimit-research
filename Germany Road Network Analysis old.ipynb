{
 "cells": [
  {
   "cell_type": "code",
   "execution_count": 1,
   "metadata": {},
   "outputs": [
    {
     "data": {
      "text/plain": [
       "'0.15.0'"
      ]
     },
     "execution_count": 1,
     "metadata": {},
     "output_type": "execute_result"
    }
   ],
   "source": [
    "import networkx as nx\n",
    "import osmnx as ox\n",
    "import requests\n",
    "import pandas as pd\n",
    "import numpy as np\n",
    "import math\n",
    "import sys\n",
    "import json\n",
    "\n",
    "import matplotlib.cm as cm\n",
    "import matplotlib.colors as colors\n",
    "import matplotlib.patches as mpatches\n",
    "import matplotlib.pyplot as plt\n",
    "%matplotlib inline\n",
    "ox.config(use_cache=True, log_console=True)\n",
    "ox.__version__"
   ]
  },
  {
   "cell_type": "markdown",
   "metadata": {},
   "source": [
    "## Relevant stuff\n",
    "https://www.mdpi.com/journal/sustainability/special_issues/Operations_Logistics\n",
    "https://ladeatlas.elektromobilitaet-bayern.de/\n",
    "https://www.bundesnetzagentur.de/DE/Sachgebiete/ElektrizitaetundGas/Unternehmen_Institutionen/HandelundVertrieb/Ladesaeulenkarte/Karte/Ladesaeulenkarte-node.html;jsessionid=7CF4CE2CE5076FAC7C1D031223DB5EFF\n",
    "https://www.bast.de/BASt_2017/DE/Verkehrstechnik/Fachthemen/v2-verkehrszaehlung/Aktuell/zaehl_aktuell_node.html;jsessionid=9F7B70710F5242ABBD5508F2C32A812C.live11294?cms_map=1&cms_filter=true&cms_jahr=Jawe2018&cms_land=9&cms_strTyp=A&cms_str=&cms_dtvKfz=&cms_dtvSv="
   ]
  },
  {
   "cell_type": "markdown",
   "metadata": {},
   "source": [
    "## Custom Plotting Logic"
   ]
  },
  {
   "cell_type": "code",
   "execution_count": 2,
   "metadata": {},
   "outputs": [],
   "source": [
    "def get_colors(n, cmap=\"viridis\", start=0.0, stop=1.0, alpha=1.0, return_hex=False):\n",
    "    \"\"\"\n",
    "    Get n evenly-spaced colors from a matplotlib colormap.\n",
    "    Parameters\n",
    "    ----------\n",
    "    n : int\n",
    "        number of colors\n",
    "    cmap : string\n",
    "        name of a matplotlib colormap\n",
    "    start : float\n",
    "        where to start in the colorspace\n",
    "    stop : float\n",
    "        where to end in the colorspace\n",
    "    alpha : float\n",
    "        opacity, the alpha channel for the RGBa colors\n",
    "    return_hex : bool\n",
    "        if True, convert RGBa colors to HTML-like hexadecimal RGB strings. if\n",
    "        False, return colors as (R, G, B, alpha) tuples.\n",
    "    Returns\n",
    "    -------\n",
    "    color_list : list\n",
    "    \"\"\"\n",
    "    color_list = [cm.get_cmap(cmap)(x) for x in np.linspace(start, stop, n)]\n",
    "    if return_hex:\n",
    "        color_list = [colors.to_hex(c) for c in color_list]\n",
    "    else:\n",
    "        color_list = [(r, g, b, alpha) for r, g, b, _ in color_list]\n",
    "    return color_list"
   ]
  },
  {
   "cell_type": "code",
   "execution_count": 3,
   "metadata": {},
   "outputs": [],
   "source": [
    "def _get_colors_by_value(vals, num_bins, cmap, start, stop, na_color, equal_size):\n",
    "    \"\"\"\n",
    "    Map colors to the values in a series.\n",
    "    Parameters\n",
    "    ----------\n",
    "    vals : pandas.Series\n",
    "        series labels are node/edge IDs and values are attribute values\n",
    "    num_bins : int\n",
    "        if None, linearly map a color to each value. otherwise, assign values\n",
    "        to this many bins then assign a color to each bin.\n",
    "    cmap : string\n",
    "        name of a matplotlib colormap\n",
    "    start : float\n",
    "        where to start in the colorspace\n",
    "    stop : float\n",
    "        where to end in the colorspace\n",
    "    na_color : string\n",
    "        what color to assign to missing values\n",
    "    equal_size : bool\n",
    "        ignored if num_bins is None. if True, bin into equal-sized quantiles\n",
    "        (requires unique bin edges). if False, bin into equal-spaced bins.\n",
    "    Returns\n",
    "    -------\n",
    "    color_series : pandas.Series\n",
    "        series labels are node/edge IDs and values are colors\n",
    "    \"\"\"\n",
    "    if len(vals) == 0:\n",
    "        raise ValueError(\"There are no attribute values.\")\n",
    "\n",
    "    if num_bins is None:\n",
    "        # calculate min/max values based on start/stop and data range\n",
    "        vals_min = vals.dropna().min()\n",
    "        vals_max = vals.dropna().max()\n",
    "        full_range = (vals_max - vals_min) / (stop - start)\n",
    "        full_min = vals_min - full_range * start\n",
    "        full_max = full_min + full_range\n",
    "\n",
    "        # linearly map a color to each attribute value\n",
    "        normalizer = colors.Normalize(full_min, full_max)\n",
    "        scalar_mapper = cm.ScalarMappable(normalizer, cm.get_cmap(cmap))\n",
    "        color_series = vals.map(scalar_mapper.to_rgba)\n",
    "        color_series.loc[pd.isnull(vals)] = na_color\n",
    "\n",
    "    else:\n",
    "        # otherwise, bin values then assign colors to bins\n",
    "        cut_func = pd.qcut if equal_size else pd.cut\n",
    "        bins, intervals = cut_func(vals, num_bins, labels=range(num_bins), retbins=True)\n",
    "        bin_colors = get_colors(num_bins, cmap, start, stop)\n",
    "        color_list = [bin_colors[b] if pd.notnull(b) else na_color for b in bins]\n",
    "        color_series = pd.Series(color_list, index=bins.index)\n",
    "\n",
    "    return color_series, bin_colors, intervals"
   ]
  },
  {
   "cell_type": "code",
   "execution_count": 4,
   "metadata": {},
   "outputs": [],
   "source": [
    "def get_edge_colors_by_TomTom_Attribute(G, requestedTime=\"16:00\", requestedAttribute=\"travelSpeed\",num_bins=None, cmap=\"viridis\", start=0, stop=1, na_color=\"none\", equal_size=False):\n",
    "\n",
    "    out = {}\n",
    "    \n",
    "    edge_info = {k:v for k,v in nx.get_edge_attributes(G, \"tomtomData\").items()}\n",
    "    for edge, data in edge_info.items():\n",
    "        if not bool(data):\n",
    "            out.update({edge: None})\n",
    "        else:\n",
    "            if requestedTime in data:\n",
    "                out.update({edge: data[requestedTime][requestedAttribute]})\n",
    "            else:\n",
    "                out.update({edge: None})\n",
    "\n",
    "    vals = pd.Series(out)\n",
    "    return _get_colors_by_value(vals,num_bins, cmap, start, stop, na_color, equal_size)"
   ]
  },
  {
   "cell_type": "code",
   "execution_count": 5,
   "metadata": {},
   "outputs": [],
   "source": [
    "def plotRelevantEdges(edgeList):\n",
    "    ec = ['y' if edge in edgeList else 'darkblue' for edge in G.edges()]\n",
    "    fig, ax = ox.plot_graph(G, edge_color=ec, edge_linewidth=1, node_size=0, figsize=(12,12), bgcolor = \"#061529\")\n",
    "\n",
    "def plotRelevantNodes(nodeList):\n",
    "    nc = ['y' if node in nodeList else 'none' for node in G.nodes()]\n",
    "    fig, ax = ox.plot_graph(G, node_color=nc, edge_linewidth=1, node_size=20, figsize=(12,12), bgcolor = \"#061529\")"
   ]
  },
  {
   "cell_type": "markdown",
   "metadata": {},
   "source": [
    "# Network Retrieval - RUNNING THESE CELLS WILL RE-DOWNLOAD THE NETWORK"
   ]
  },
  {
   "cell_type": "markdown",
   "metadata": {},
   "source": [
    "# get a graph for some city\n",
    "G = ox.graph_from_place('Germany', custom_filter=f'[\"highway\"][\"area\"!~\"yes\"][\"highway\"~\"motorway\"]')\n",
    "fig, ax = ox.plot_graph(G)"
   ]
  },
  {
   "cell_type": "markdown",
   "metadata": {},
   "source": [
    "# save graph to disk as geopackage (for GIS) or graphml file (for gephi etc)\n",
    "ox.save_graph_geopackage(G, filepath='./data/germany_highways.gpkg')\n",
    "ox.save_graphml(G, filepath='./data/germany_highways.graphml')"
   ]
  },
  {
   "cell_type": "code",
   "execution_count": 6,
   "metadata": {},
   "outputs": [],
   "source": [
    "# Network Import &  Preparation"
   ]
  },
  {
   "cell_type": "code",
   "execution_count": 7,
   "metadata": {},
   "outputs": [],
   "source": [
    "G = ox.load_graphml(filepath='./data/germany_highways.graphml')"
   ]
  },
  {
   "cell_type": "code",
   "execution_count": 8,
   "metadata": {},
   "outputs": [
    {
     "name": "stderr",
     "output_type": "stream",
     "text": [
      "C:\\Users\\pasca\\Anaconda3\\envs\\ox\\lib\\site-packages\\osmnx\\utils_graph.py:56: FutureWarning: Assigning CRS to a GeoDataFrame without a geometry column is now deprecated and will not be supported in the future.\n",
      "  gdf_nodes = gpd.GeoDataFrame(data, index=nodes, crs=crs)\n"
     ]
    },
    {
     "data": {
      "image/png": "[encoded data removed]",
      "text/plain": [
       "<Figure size 864x864 with 1 Axes>"
      ]
     },
     "metadata": {},
     "output_type": "display_data"
    },
    {
     "data": {
      "text/plain": [
       "(<Figure size 864x864 with 1 Axes>,\n",
       " <matplotlib.axes._subplots.AxesSubplot at 0x1f60a221100>)"
      ]
     },
     "execution_count": 8,
     "metadata": {},
     "output_type": "execute_result"
    }
   ],
   "source": [
    "ox.plot_graph(G, figsize=(12,12), node_size=4, bgcolor=\"white\", node_color=\"black\", edge_color=\"black\")"
   ]
  },
  {
   "cell_type": "code",
   "execution_count": 9,
   "metadata": {},
   "outputs": [
    {
     "data": {
      "text/plain": [
       "394902.3047708355"
      ]
     },
     "execution_count": 9,
     "metadata": {},
     "output_type": "execute_result"
    }
   ],
   "source": [
    "# what sized area does our network cover in square meters?\n",
    "G_proj = ox.project_graph(G)\n",
    "nodes_proj = ox.graph_to_gdfs(G_proj, edges=False)\n",
    "graph_area_m = nodes_proj.unary_union.convex_hull.area\n",
    "graph_area_m / 1000000"
   ]
  },
  {
   "cell_type": "code",
   "execution_count": 10,
   "metadata": {},
   "outputs": [
    {
     "data": {
      "text/plain": [
       "{'n': 37032,\n",
       " 'm': 44854,\n",
       " 'k_avg': 2.422445452581551,\n",
       " 'intersection_count': 23599,\n",
       " 'streets_per_node_avg': 2.2709278461870817,\n",
       " 'streets_per_node_counts': {0: 0, 1: 13433, 2: 343, 3: 23050, 4: 202, 5: 4},\n",
       " 'streets_per_node_proportion': {0: 0.0,\n",
       "  1: 0.3627403326852452,\n",
       "  2: 0.009262259667314756,\n",
       "  3: 0.6224346511125513,\n",
       "  4: 0.005454741844890905,\n",
       "  5: 0.00010801468999783971},\n",
       " 'edge_length_total': 31496099.516000107,\n",
       " 'edge_length_avg': 702.1915440317498,\n",
       " 'street_length_total': 31163197.369999964,\n",
       " 'street_length_avg': 741.5218524246886,\n",
       " 'street_segments_count': 42026,\n",
       " 'node_density_km': 0.09377509209901908,\n",
       " 'intersection_density_km': 0.05975908399343139,\n",
       " 'edge_density_km': 79.75668699699666,\n",
       " 'street_density_km': 78.91368825533743,\n",
       " 'circuity_avg': 1.0548963891337588,\n",
       " 'self_loop_proportion': 0.00020065100102554956,\n",
       " 'clean_intersection_count': 20685,\n",
       " 'clean_intersection_density_km': 0.05238004374779136}"
      ]
     },
     "execution_count": 10,
     "metadata": {},
     "output_type": "execute_result"
    }
   ],
   "source": [
    "# show some basic stats about the network\n",
    "ox.basic_stats(G_proj, area=graph_area_m, clean_intersects=True, circuity_dist='euclidean')"
   ]
  },
  {
   "cell_type": "markdown",
   "metadata": {},
   "source": [
    "# Data Import & Preparation"
   ]
  },
  {
   "cell_type": "code",
   "execution_count": 11,
   "metadata": {},
   "outputs": [],
   "source": [
    "# load data\n",
    "df_verkehr = pd.read_csv(\"./data/verkehrszaehlung2018_komplett.csv\", sep=\";\", encoding = \"ISO-8859-1\", decimal=\",\")\n",
    "\n",
    "# filter data\n",
    "df_verkehr = df_verkehr[df_verkehr[\"Str_Kl\"] == \"A\"]"
   ]
  },
  {
   "cell_type": "code",
   "execution_count": 12,
   "metadata": {},
   "outputs": [],
   "source": [
    "# adjust format for coordinates\n",
    "df_verkehr[\"latitude\"] = df_verkehr[\"Koor_WGS84_N\"].apply(lambda x: float(x))\n",
    "df_verkehr[\"longitude\"] = df_verkehr[\"Koor_WGS84_E\"].apply(lambda x: float(x))"
   ]
  },
  {
   "cell_type": "code",
   "execution_count": 13,
   "metadata": {},
   "outputs": [],
   "source": [
    "# fix formatting issues with numeric values (datasets contain stupid formatting like 5.357.432 instead of 5357432.00)\n",
    "df_verkehr[\"DTV_Kfz_MobisSo_Q\"] = df_verkehr[\"DTV_Kfz_MobisSo_Q\"].apply(lambda x: float(str(x).replace(\".\", \"\")))\n",
    "df_verkehr[\"DTV_SV_MobisSo_Q\"] = df_verkehr[\"DTV_SV_MobisSo_Q\"].apply(lambda x: float(str(x).replace(\".\", \"\")))"
   ]
  },
  {
   "cell_type": "code",
   "execution_count": 14,
   "metadata": {},
   "outputs": [],
   "source": [
    "# remove rows with NA values\n",
    "df_verkehr = df_verkehr[df_verkehr['DTV_Kfz_MobisSo_Q'].notna()]"
   ]
  },
  {
   "cell_type": "markdown",
   "metadata": {},
   "source": [
    "## Populate Network with traffic data"
   ]
  },
  {
   "cell_type": "code",
   "execution_count": 15,
   "metadata": {},
   "outputs": [],
   "source": [
    "# set default values for every edge (initialize) which are later overwritten for relevant edges\n",
    "nx.set_node_attributes(G, \"\", \"roadname\")\n",
    "nx.set_node_attributes(G, 0, \"quantity_cars\")\n",
    "nx.set_node_attributes(G, 0, \"quantity_trucks\")\n",
    "nx.set_node_attributes(G, \"\", \"general_direction\")\n",
    "nx.set_node_attributes(G, \"\", \"current_location\")\n",
    "\n",
    "counter = 0\n",
    "total = 0\n",
    "nodes_with_data = []\n",
    "for idx, row in df_verkehr.iterrows():\n",
    "    lat, lng = row[\"latitude\"], row[\"longitude\"]\n",
    "    node, dist = ox.get_nearest_node(G, (lat,lng), return_dist=True)\n",
    "    total += 1\n",
    "    \n",
    "    if dist < 5000:\n",
    "        counter += 1\n",
    "        nodes_with_data.append(node)\n",
    "        \n",
    "        G.nodes[node][\"roadname\"] = row[\"Str_Kl\"] + str(row[\"Str_Nr\"])\n",
    "        G.nodes[node][\"quantity_cars\"] = row[\"DTV_Kfz_MobisSo_Q\"] / 2 # every row in dataframe contains data for both directions --> split in half for one-directional data\n",
    "        G.nodes[node][\"quantity_trucks\"] = row[\"DTV_SV_MobisSo_Q\"] / 2\n",
    "        G.nodes[node][\"general_direction\"] = row[\"Fernziel_Ri1\"]\n",
    "        G.nodes[node][\"current_location\"] = row[\"Nahziel_Ri2\"]"
   ]
  },
  {
   "cell_type": "code",
   "execution_count": 16,
   "metadata": {},
   "outputs": [
    {
     "name": "stderr",
     "output_type": "stream",
     "text": [
      "C:\\Users\\pasca\\Anaconda3\\envs\\ox\\lib\\site-packages\\osmnx\\utils_graph.py:56: FutureWarning: Assigning CRS to a GeoDataFrame without a geometry column is now deprecated and will not be supported in the future.\n",
      "  gdf_nodes = gpd.GeoDataFrame(data, index=nodes, crs=crs)\n"
     ]
    },
    {
     "data": {
      "image/png": "[encoded data removed]",
      "text/plain": [
       "<Figure size 864x864 with 1 Axes>"
      ]
     },
     "metadata": {},
     "output_type": "display_data"
    }
   ],
   "source": [
    "plotRelevantNodes(nodes_with_data)"
   ]
  },
  {
   "cell_type": "code",
   "execution_count": 17,
   "metadata": {},
   "outputs": [],
   "source": [
    "nodes_without_data = [n for n in G.nodes() if G.nodes[n][\"quantity_cars\"] == 0]\n",
    "nodes_without_data_coords = [(G.nodes[n][\"y\"], G.nodes[n][\"y\"]) for n in G.nodes() if G.nodes[n][\"quantity_cars\"] == 0]\n",
    "\n",
    "nodes_with_data_coords = [(G.nodes[n][\"y\"], G.nodes[n][\"y\"]) for n in nodes_with_data]"
   ]
  },
  {
   "cell_type": "code",
   "execution_count": 18,
   "metadata": {},
   "outputs": [],
   "source": [
    "nodes_with_assigned_data = [n for n in G.nodes() if G.nodes[n][\"quantity_cars\"] > 0]\n",
    "nodes_with_na_data = [n for n in G.nodes() if G.nodes[n][\"quantity_cars\"] ]"
   ]
  },
  {
   "cell_type": "code",
   "execution_count": 19,
   "metadata": {},
   "outputs": [],
   "source": [
    "diff_nodes = set(G.nodes()).difference(set(nodes_with_assigned_data))"
   ]
  },
  {
   "cell_type": "code",
   "execution_count": null,
   "metadata": {},
   "outputs": [],
   "source": [
    "for orig_idx, orig_node in enumerate(nodes_without_data_coords):\n",
    "    nearest_node = 0\n",
    "    nn_dist = 100000\n",
    "    for dest_idx, dest_node in enumerate(nodes_with_data_coords):\n",
    "        dist = ox.distance.great_circle_vec(*orig_node, *dest_node)\n",
    "        if dist < nn_dist:\n",
    "            nearest_node = nodes_with_data[dest_idx]\n",
    "            nn_dist = dist\n",
    "    \n",
    "    orig_nodeID = nodes_without_data[orig_idx]\n",
    "    G.nodes[orig_nodeID][\"quantity_cars\"] = G.nodes[nearest_node][\"quantity_cars\"]"
   ]
  },
  {
   "cell_type": "code",
   "execution_count": null,
   "metadata": {},
   "outputs": [],
   "source": [
    "nodes_without_data = [n for n in G.nodes() if G.nodes[n][\"quantity_cars\"] == 0]\n",
    "nodes_without_data_coords = [(G.nodes[n][\"y\"], G.nodes[n][\"y\"]) for n in G.nodes() if G.nodes[n][\"quantity_cars\"] == 0]\n",
    "\n",
    "nodes_with_data_coords = [(G.nodes[n][\"y\"], G.nodes[n][\"y\"]) for n in nodes_with_data]"
   ]
  },
  {
   "cell_type": "code",
   "execution_count": null,
   "metadata": {},
   "outputs": [],
   "source": [
    "nx.set_edge_attributes(G, 0, \"quantity_cars\")\n",
    "\n",
    "for e in G.edges():\n",
    "    n1, n2 = e\n",
    "    qcars1, qcars2 = G.nodes[n1][\"quantity_cars\"], G.nodes[n2][\"quantity_cars\"]\n",
    "    avg_qcars = (qcars1 + qcars2) / 2\n",
    "    G.edges[(*e, 0)][\"quantity_cars\"] = avg_qcars"
   ]
  },
  {
   "cell_type": "code",
   "execution_count": null,
   "metadata": {},
   "outputs": [],
   "source": [
    "print(\"Network colored by quantity of cars per edge\")\n",
    "ec = ox.plot.get_edge_colors_by_attr(G, attr='quantity_cars', cmap='plasma', na_color=\"red\", equal_size=True)\n",
    "fig, ax = ox.plot_graph(G, edge_color=ec, edge_linewidth=1, node_size=0, figsize=(12,12))\n",
    "#fig.savefig(\"test.png\", dpi=1000)"
   ]
  },
  {
   "cell_type": "markdown",
   "metadata": {},
   "source": [
    "### Identify End Nodes"
   ]
  },
  {
   "cell_type": "code",
   "execution_count": null,
   "metadata": {},
   "outputs": [],
   "source": [
    "endpoints = []\n",
    "for n in G.nodes():\n",
    "    motorways = 0\n",
    "    for e in G.out_edges(n):\n",
    "        if G.out_edges[(*e, 0)][\"highway\"] == \"motorway\":\n",
    "            motorways += 1\n",
    "    for e in G.in_edges(n):\n",
    "        if G.in_edges[(*e, 0)][\"highway\"] == \"motorway\":\n",
    "            motorways += 1\n",
    "    \n",
    "    if motorways == 1:\n",
    "        endpoints.append(n)"
   ]
  },
  {
   "cell_type": "markdown",
   "metadata": {},
   "source": [
    "## Visualize retrieved end/startpoints"
   ]
  },
  {
   "cell_type": "code",
   "execution_count": null,
   "metadata": {},
   "outputs": [],
   "source": [
    "nc = ['y' if node in endpoints else 'none' for node in G.nodes()]\n",
    "fig, ax = ox.plot_graph(G, node_color=nc, node_size=100, figsize=(30,30))\n",
    "\n",
    "#fig.savefig(\"endnodes.png\", dpi=300)"
   ]
  },
  {
   "cell_type": "markdown",
   "metadata": {},
   "source": [
    "### Dijsktra Algorithm from central point to end nodes"
   ]
  },
  {
   "cell_type": "code",
   "execution_count": null,
   "metadata": {},
   "outputs": [],
   "source": [
    "node_centralities = {k: v for k, v in sorted(nx.degree_centrality(G).items(), key=lambda item: item[1], reverse=True)}\n",
    "central_node = next(iter(node_centralities))"
   ]
  },
  {
   "cell_type": "code",
   "execution_count": null,
   "metadata": {},
   "outputs": [],
   "source": [
    "routes = []\n",
    "failed = []\n",
    "for n in endpoints:\n",
    "    try:\n",
    "        routes.append(nx.algorithms.shortest_path(G, source=central_node, target=n, weight=\"length\"))\n",
    "    except:\n",
    "        failed.append(n)\n",
    "        continue"
   ]
  },
  {
   "cell_type": "markdown",
   "metadata": {},
   "source": [
    "### Plot all nodes that failed --> these are nodes at the endpoints, but in the wrong direction!"
   ]
  },
  {
   "cell_type": "code",
   "execution_count": null,
   "metadata": {},
   "outputs": [],
   "source": [
    "nc = ['r' if node in failed else 'none' for node in G.nodes()]\n",
    "fig, ax = ox.plot_graph(G, node_color=nc, node_size=200, figsize=(30,30))"
   ]
  },
  {
   "cell_type": "markdown",
   "metadata": {},
   "source": [
    "### Plot all retrieved routes"
   ]
  },
  {
   "cell_type": "code",
   "execution_count": null,
   "metadata": {},
   "outputs": [],
   "source": [
    "fig, ax = ox.plot_graph_routes(G, routes=routes,\n",
    "                               route_linewidth=6, node_size=0, figsize=(12,12))"
   ]
  },
  {
   "cell_type": "markdown",
   "metadata": {},
   "source": [
    "### Resolve previously failed paths due to bidirectional lanes --> Now from endpoint to central point"
   ]
  },
  {
   "cell_type": "code",
   "execution_count": null,
   "metadata": {},
   "outputs": [],
   "source": [
    "remaining_routes = []\n",
    "still_fail = []\n",
    "for n in failed:\n",
    "    try:\n",
    "        remaining_routes.append(nx.algorithms.shortest_path(G, source=n, target=central_node, weight=\"length\"))\n",
    "    except:\n",
    "        still_fail.append(n)\n",
    "        continue"
   ]
  },
  {
   "cell_type": "markdown",
   "metadata": {},
   "source": [
    "### Combine routes from both points + other directions"
   ]
  },
  {
   "cell_type": "code",
   "execution_count": null,
   "metadata": {},
   "outputs": [],
   "source": [
    "all_routes = routes + remaining_routes"
   ]
  },
  {
   "cell_type": "code",
   "execution_count": null,
   "metadata": {},
   "outputs": [],
   "source": [
    "fig, ax = ox.plot_graph_routes(G, routes=all_routes,\n",
    "                               route_linewidth=6, node_size=0, figsize=(12,12))"
   ]
  },
  {
   "cell_type": "code",
   "execution_count": null,
   "metadata": {},
   "outputs": [],
   "source": [
    "flattened_list = [y for x in all_routes for y in x]"
   ]
  },
  {
   "cell_type": "code",
   "execution_count": null,
   "metadata": {},
   "outputs": [],
   "source": [
    "# makes no sense --> observation: routes only connect via motorway_link nodes\n",
    "nodes_in_routes = set(flattened_list)\n",
    "\n",
    "nodes_in_routes_nolinks = []\n",
    "for n in nodes_in_routes:\n",
    "    motorways = 0\n",
    "    for e in G.out_edges(n):\n",
    "        if G.out_edges[(*e, 0)][\"highway\"] == \"motorway\":\n",
    "            motorways += 1\n",
    "    for e in G.in_edges(n):\n",
    "        if G.in_edges[(*e, 0)][\"highway\"] == \"motorway\":\n",
    "            motorways += 1\n",
    "    \n",
    "    if motorways > 0:\n",
    "        nodes_in_routes_nolinks.append(n)"
   ]
  },
  {
   "cell_type": "code",
   "execution_count": null,
   "metadata": {},
   "outputs": [],
   "source": [
    "relevant_nodes = [] # relevant is every node which has a connection to a motorway\n",
    "for n in G.nodes():\n",
    "    motorways = 0\n",
    "    for e in G.out_edges(n):\n",
    "        if G.out_edges[(*e, 0)][\"highway\"] == \"motorway\":\n",
    "            motorways += 1\n",
    "    for e in G.in_edges(n):\n",
    "        if G.in_edges[(*e, 0)][\"highway\"] == \"motorway\":\n",
    "            motorways += 1\n",
    "    \n",
    "    if motorways > 0:\n",
    "        relevant_nodes.append(n)"
   ]
  },
  {
   "cell_type": "code",
   "execution_count": null,
   "metadata": {},
   "outputs": [],
   "source": [
    "currently_not_used = set(relevant_nodes).difference(nodes_in_routes_nolinks); print(len(currently_not_used))"
   ]
  },
  {
   "cell_type": "code",
   "execution_count": null,
   "metadata": {},
   "outputs": [],
   "source": [
    "nc = ['r' if node in currently_not_used else 'none' for node in G.nodes()]\n",
    "fig, ax = ox.plot_graph(G, node_color=nc, node_size=20, figsize=(12,12))"
   ]
  },
  {
   "cell_type": "code",
   "execution_count": null,
   "metadata": {},
   "outputs": [],
   "source": [
    "# identify end points\n",
    "new_endpoints = []\n",
    "for node in currently_not_used: # check all nodes that are not currently on any route\n",
    "    \n",
    "    for e in G.out_edges(node): # check all edges of current node\n",
    "        n1, n2 = e # unpack both nodes of edge (start, end)\n",
    "        if n1 == node: # we only need to check edge node that is not our currentNode\n",
    "            currentOtherNode = n2\n",
    "        else:\n",
    "            currentOtherNode = n1\n",
    "        \n",
    "        if currentOtherNode in nodes_in_routes_nolinks: # if we find an opposing edge node that is already in a route, we identified a new endpoint\n",
    "            new_endpoints.append(currentOtherNode)"
   ]
  },
  {
   "cell_type": "code",
   "execution_count": null,
   "metadata": {},
   "outputs": [],
   "source": [
    "# identify end points\n",
    "new_startpoints = []\n",
    "for node in currently_not_used: # check all nodes that are not currently on any route\n",
    "    \n",
    "    for e in G.in_edges(node): # check all edges of current node\n",
    "        n1, n2 = e # unpack both nodes of edge (start, end)\n",
    "        if n1 == node: # we only need to check edge node that is not our currentNode\n",
    "            currentOtherNode = n2\n",
    "        else:\n",
    "            currentOtherNode = n1\n",
    "        \n",
    "        if currentOtherNode in nodes_in_routes_nolinks: # if we find an opposing edge node that is already in a route, we identified a new endpoint\n",
    "            new_startpoints.append(currentOtherNode)"
   ]
  },
  {
   "cell_type": "code",
   "execution_count": null,
   "metadata": {},
   "outputs": [],
   "source": [
    "# follow along an edge node by noode to identify endpoint\n",
    "# endpoint is a point that is either already in previous routes or in newly identified endpoints\n",
    "def recursiveEdges(node):\n",
    "    for e in G.out_edges(node):\n",
    "            if G.edges[(*e, 0)][\"highway\"] == \"motorway\":\n",
    "                n1, currentNode = e\n",
    "                \n",
    "                if currentNode in new_endpoints or currentNode in nodes_in_routes_nolinks:\n",
    "                    return currentNode\n",
    "                else:\n",
    "                    if currentNode in currently_not_used:\n",
    "                        return recursiveEdges(currentNode)"
   ]
  },
  {
   "cell_type": "code",
   "execution_count": null,
   "metadata": {},
   "outputs": [],
   "source": [
    "missing_endpoints = {}\n",
    "fail_nodes = []\n",
    "for node in new_startpoints:\n",
    "    if recursiveEdges(node) == None:\n",
    "        fail_nodes.append(node)\n",
    "    else:\n",
    "        missing_endpoints[node] = recursiveEdges(node)"
   ]
  },
  {
   "cell_type": "code",
   "execution_count": null,
   "metadata": {},
   "outputs": [],
   "source": [
    "nc = ['r' if node in fail_nodes else 'none' for node in G.nodes()]\n",
    "fig, ax = ox.plot_graph(G, node_color=nc, node_size=200, figsize=(12,12))"
   ]
  },
  {
   "cell_type": "code",
   "execution_count": null,
   "metadata": {},
   "outputs": [],
   "source": [
    "missing_routes = []\n",
    "for k, v in missing_endpoints.items():\n",
    "    missing_routes.append(nx.shortest_path(G, source = k, target = v, weight = \"length\"))"
   ]
  },
  {
   "cell_type": "code",
   "execution_count": null,
   "metadata": {},
   "outputs": [],
   "source": [
    "fig, ax = ox.plot_graph_routes(G, routes=missing_routes,\n",
    "                               route_linewidth=6, node_size=0, figsize=(12,12))"
   ]
  },
  {
   "cell_type": "code",
   "execution_count": null,
   "metadata": {},
   "outputs": [],
   "source": [
    "all_relevant_paths = all_routes + missing_routes"
   ]
  },
  {
   "cell_type": "code",
   "execution_count": null,
   "metadata": {},
   "outputs": [],
   "source": [
    "fig, ax = ox.plot_graph_routes(G, routes=all_relevant_paths,\n",
    "                               route_linewidth=1, node_size=0, figsize=(30,30))\n",
    "#fig.savefig(\"all_relevant_paths.png\", dpi=500)"
   ]
  },
  {
   "cell_type": "code",
   "execution_count": null,
   "metadata": {},
   "outputs": [],
   "source": [
    "nx.set_edge_attributes(G, 0, \"visited\")\n",
    "for route in all_relevant_paths:\n",
    "    for i in range(len(route) - 1):\n",
    "        G.edges[(route[i], route[i+1], 0)][\"visited\"] = 1\n",
    "        "
   ]
  },
  {
   "cell_type": "code",
   "execution_count": null,
   "metadata": {},
   "outputs": [],
   "source": [
    "ec = ox.plot.get_edge_colors_by_attr(G, attr='visited', cmap='plasma', na_color=\"red\")\n",
    "fig, ax = ox.plot_graph(G, edge_color=ec, edge_linewidth=1, node_size=0, figsize=(30,30))\n",
    "#fig.savefig(\"test.png\", dpi=1000)"
   ]
  },
  {
   "cell_type": "code",
   "execution_count": null,
   "metadata": {},
   "outputs": [],
   "source": [
    "# makes no sense --> observation: routes only connect via motorway_link nodes\n",
    "flattened_list = [y for x in all_relevant_paths for y in x]\n",
    "nodes_in_routes = set(flattened_list); print(\"Nodes in current routes (incl. Motorway Links): \", len(nodes_in_routes))\n",
    "\n",
    "nodes_in_routes_nolinks = []\n",
    "for n in nodes_in_routes:\n",
    "    motorways = 0\n",
    "    for e in G.out_edges(n):\n",
    "        if G.out_edges[(*e, 0)][\"highway\"] == \"motorway\":\n",
    "            motorways += 1\n",
    "    for e in G.in_edges(n):\n",
    "        if G.in_edges[(*e, 0)][\"highway\"] == \"motorway\":\n",
    "            motorways += 1\n",
    "    \n",
    "    if motorways > 0:\n",
    "        nodes_in_routes_nolinks.append(n)\n",
    "print(\"Motorway Nodes in current routes (w/o Motorwy links) \", len(nodes_in_routes_nolinks))"
   ]
  },
  {
   "cell_type": "code",
   "execution_count": null,
   "metadata": {},
   "outputs": [],
   "source": [
    "relevant_nodes = [] # relevant is every node which has a connection to a motorway\n",
    "for n in G.nodes():\n",
    "    motorways = 0\n",
    "    for e in G.out_edges(n):\n",
    "        if G.out_edges[(*e, 0)][\"highway\"] == \"motorway\":\n",
    "            motorways += 1\n",
    "    for e in G.in_edges(n):\n",
    "        if G.in_edges[(*e, 0)][\"highway\"] == \"motorway\":\n",
    "            motorways += 1\n",
    "    \n",
    "    if motorways > 0:\n",
    "        relevant_nodes.append(n)\n",
    "\n",
    "print(\"Total amount of relevant motorway nodes in network: \", len(relevant_nodes))"
   ]
  },
  {
   "cell_type": "code",
   "execution_count": null,
   "metadata": {},
   "outputs": [],
   "source": [
    "currently_not_used = set(relevant_nodes).difference(nodes_in_routes_nolinks); print(\"# of relevant nodes currently not on any route: \", len(currently_not_used))"
   ]
  },
  {
   "cell_type": "markdown",
   "metadata": {},
   "source": [
    "# Save results to CSV for use with TomTom API"
   ]
  },
  {
   "cell_type": "code",
   "execution_count": null,
   "metadata": {},
   "outputs": [],
   "source": [
    "import math"
   ]
  },
  {
   "cell_type": "code",
   "execution_count": null,
   "metadata": {},
   "outputs": [],
   "source": [
    "route_output = []\n",
    "circle_rad = 20\n",
    "\n",
    "dist_threshold = 100 # minimum air distance between two coordinate pairs \n",
    "for route in all_relevant_paths:\n",
    "    \n",
    "    start = route[0]\n",
    "    end = route[-1]\n",
    "\n",
    "    start_coords = (G.nodes[start][\"y\"], G.nodes[start][\"x\"])\n",
    "    end_coords = (G.nodes[end][\"y\"], G.nodes[end][\"x\"])\n",
    "\n",
    "    out_str = \"\"\n",
    "    leg_list = []\n",
    "    \n",
    "    prev_point = start_coords\n",
    "    for n in route:\n",
    "        for e in G.in_edges(n):\n",
    "            curr_coords = (G.nodes[n][\"y\"], G.nodes[n][\"x\"])\n",
    "            if (G.edges[(*e, 0)][\"highway\"] == \"motorway_link\" and ox.distance.great_circle_vec(*prev_point, *curr_coords) >= dist_threshold) or n == start or n == end:\n",
    "                out_str = out_str + str(G.nodes[n][\"y\"]) + \",\" + str(G.nodes[n][\"x\"]) + \":\"\n",
    "                leg_list.append(n)\n",
    "                prev_point = curr_coords\n",
    "                break\n",
    "    out_str = out_str[:-1]\n",
    "    route_output.append((*start_coords, *end_coords, nx.shortest_path_length(G, start, end, weight=\"length\"), out_str, route, leg_list))\n"
   ]
  },
  {
   "cell_type": "code",
   "execution_count": null,
   "metadata": {},
   "outputs": [],
   "source": [
    "import pandas as pd\n",
    "dfObj = pd.DataFrame(route_output, columns = ['lat_start' , 'lng_start', 'lat_end' , 'lng_end', 'dist_in_meters', 'coord_list', 'route', \"leg_list\"]) "
   ]
  },
  {
   "cell_type": "code",
   "execution_count": null,
   "metadata": {},
   "outputs": [],
   "source": [
    "dfObj.to_csv(\"all_routes_new_Germany.csv\", index=False)"
   ]
  },
  {
   "cell_type": "code",
   "execution_count": null,
   "metadata": {},
   "outputs": [],
   "source": [
    "dfObj.head()"
   ]
  },
  {
   "cell_type": "markdown",
   "metadata": {},
   "source": [
    "# Load data into network"
   ]
  },
  {
   "cell_type": "code",
   "execution_count": null,
   "metadata": {},
   "outputs": [],
   "source": [
    "from os import listdir\n",
    "from os.path import isfile, join\n",
    "\n",
    "datapath = \"data/tomtom\"\n",
    "tomtom_files = [f for f in listdir(datapath) if isfile(join(datapath, f))]"
   ]
  },
  {
   "cell_type": "raw",
   "metadata": {},
   "source": [
    "# exemplary reference dictionary\n",
    "attr_dic = {(266518531, 2917413954, 0): {\n",
    "        '2020-07-10_09:00': {\"travelTimeInSeconds\": 100, \"trafficDelayInSeconds\": 32, \"noTrafficTravelTimeInSeconds\": 68, \"historicTrafficTravelTimeInSeconds\": 10, \"lengthInMeters\": 100},\n",
    "    '2020-07-10_10:00': {\"travelTimeInSeconds\": 100, \"trafficDelayInSeconds\": 32, \"noTrafficTravelTimeInSeconds\": 68, \"historicTrafficTravelTimeInSeconds\": 10, \"lengthInMeters\": 100},\n",
    "    '2020-07-10_11:00': {\"travelTimeInSeconds\": 100, \"trafficDelayInSeconds\": 32, \"noTrafficTravelTimeInSeconds\": 68, \"historicTrafficTravelTimeInSeconds\": 10, \"lengthInMeters\": 100},\n",
    "    '2020-07-10_12:00': {\"travelTimeInSeconds\": 100, \"trafficDelayInSeconds\": 32, \"noTrafficTravelTimeInSeconds\": 68, \"historicTrafficTravelTimeInSeconds\": 10, \"lengthInMeters\": 100},\n",
    "    '2020-07-10_13:00': {\"travelTimeInSeconds\": 100, \"trafficDelayInSeconds\": 32, \"noTrafficTravelTimeInSeconds\": 68, \"historicTrafficTravelTimeInSeconds\": 10, \"lengthInMeters\": 100},\n",
    "    '2020-07-10_14:00': {\"travelTimeInSeconds\": 100, \"trafficDelayInSeconds\": 32, \"noTrafficTravelTimeInSeconds\": 68, \"historicTrafficTravelTimeInSeconds\": 10, \"lengthInMeters\": 100},\n",
    "    '2020-07-10_15:00': {\"travelTimeInSeconds\": 100, \"trafficDelayInSeconds\": 32, \"noTrafficTravelTimeInSeconds\": 68, \"historicTrafficTravelTimeInSeconds\": 10, \"lengthInMeters\": 100},\n",
    "    '2020-07-10_16:00': {\"travelTimeInSeconds\": 100, \"trafficDelayInSeconds\": 32, \"noTrafficTravelTimeInSeconds\": 68, \"historicTrafficTravelTimeInSeconds\": 10, \"lengthInMeters\": 100},\n",
    "    '2020-07-10_17:00': {\"travelTimeInSeconds\": 100, \"trafficDelayInSeconds\": 32, \"noTrafficTravelTimeInSeconds\": 68, \"historicTrafficTravelTimeInSeconds\": 10, \"lengthInMeters\": 100},\n",
    "    '2020-07-10_18:00': {\"travelTimeInSeconds\": 100, \"trafficDelayInSeconds\": 32, \"noTrafficTravelTimeInSeconds\": 68, \"historicTrafficTravelTimeInSeconds\": 10, \"lengthInMeters\": 100}\n",
    "    \n",
    "    }\n",
    "}"
   ]
  },
  {
   "cell_type": "code",
   "execution_count": null,
   "metadata": {},
   "outputs": [],
   "source": [
    "from dateutil.parser import parse\n",
    "import datetime\n",
    "\n",
    "def round_time(dt=None, round_to=1800):\n",
    "    if dt == None: \n",
    "        dt = datetime.datetime.now()\n",
    "    dt = dt.replace(tzinfo=None)\n",
    "    seconds = (dt - dt.min).seconds\n",
    "    rounding = (seconds+round_to/2) // round_to * round_to\n",
    "    new_dt = dt + datetime.timedelta(0,rounding-seconds,-dt.microsecond)\n",
    "    return '%i:%02i' % (new_dt.hour, new_dt.minute)"
   ]
  },
  {
   "cell_type": "code",
   "execution_count": null,
   "metadata": {},
   "outputs": [],
   "source": [
    "import numpy as np"
   ]
  },
  {
   "cell_type": "markdown",
   "metadata": {},
   "source": [
    "## Magic! Don't touch"
   ]
  },
  {
   "cell_type": "code",
   "execution_count": null,
   "metadata": {},
   "outputs": [],
   "source": [
    "attribute_dict = {}\n",
    "for e in list(G.edges()):\n",
    "    attribute_dict[(*e, 0)] = {}"
   ]
  },
  {
   "cell_type": "code",
   "execution_count": null,
   "metadata": {},
   "outputs": [],
   "source": [
    "visited_paths = []\n",
    "all_counter = 0\n",
    "\n",
    "foundLegsCounter = 0\n",
    "for f in tomtom_files:\n",
    "    '''\n",
    "        Leg = Ein Abschnitt (= Abfolge von Koordinatenpaaren), für welchen spezifische Traffic-Informationen vorliegen\n",
    "        Section = Eine Aneinanderreihung von Punkten, welche auf einer Autobahn (=motorway) abgefahren werden. Eine Section kann mehrere Legs beinhalten.\n",
    "        '''\n",
    "    try:\n",
    "        with open(join(datapath, f)) as json_file:\n",
    "            # get meta data from dataset\n",
    "            df_idx, _ = f.split(\"_\")[5].split(\".\") # retrieve data frame index from filename\n",
    "            df_idx = int(df_idx)\n",
    "            df_row = dfObj.iloc[df_idx, :] # get current row by filename index\n",
    "            \n",
    "\n",
    "            # load extracted API data as json\n",
    "            data = json.load(json_file)\n",
    "\n",
    "            # add global index and leg number to every single point and save as list object\n",
    "            global_idx = 0\n",
    "            point_tpl = []\n",
    "            for leg_idx, leg in enumerate(data[\"routes\"][0][\"legs\"]): # go through every leg\n",
    "                for point in leg[\"points\"]: # go through every point in leg (point = (latitude/longitude))\n",
    "                    point_tpl.append([leg_idx, global_idx, (point[\"latitude\"], point[\"longitude\"]), -1])\n",
    "                    global_idx += 1\n",
    "\n",
    "            # add section number to every point in list object --> Point X is located in section Y\n",
    "            current_section = 0\n",
    "            for tpl in point_tpl:\n",
    "                if current_section < len(data[\"routes\"][0][\"sections\"]):\n",
    "                    section = data[\"routes\"][0][\"sections\"][current_section] # extract info about section\n",
    "                else:\n",
    "                    current_section = -1\n",
    "                \n",
    "                startIdx = section[\"startPointIndex\"] # every section is marked by a start and end point, which reference the global point index (index amongst all points contained in legs)\n",
    "                endIdx = section[\"endPointIndex\"]\n",
    "\n",
    "                # if global index is inside current section then section number is appended\n",
    "                if tpl[1] >= startIdx and tpl[1] <= endIdx:\n",
    "                    tpl[3] = current_section\n",
    "\n",
    "                # if end of section is reached, i.e. last point in section is found --> next point has to start a new section\n",
    "                if tpl[1] == endIdx:\n",
    "                    current_section += 1\n",
    "                    \n",
    "\n",
    "            # if section finishes, the TomTom route leaves the motorway --> no data available.\n",
    "            # if leg finishes, a new subroute/branch with new traffic data has to be analyzed\n",
    "            leg_no_old = 0 # previously analyzed leg\n",
    "            section_no_old = 0 # previously analyzed section\n",
    "            start_tpl_idx = 0 # startpoint of the currently analyzed branch\n",
    "            end_tpl_idx = 0 # see above\n",
    "            for idx, tpl in enumerate(point_tpl):\n",
    "                if leg_no_old != tpl[0] or section_no_old != tpl[3] or idx == len(point_tpl) - 1: # if leg or section is different --> new branch starts\n",
    "                    if section_no_old != -1: # save branch data only if section is available --> -1 indicates no motorway --> no section\n",
    "                        end_tpl_idx = idx - 1 # end point of previous section is the current index - 1 (previous point)\n",
    "\n",
    "                        # TODO: MATCHING TO BE REFINED\n",
    "                        # retrieve coordinates by lookup\n",
    "                        start_coords, end_coords = point_tpl[start_tpl_idx][2], point_tpl[end_tpl_idx][2]\n",
    "                        #start_node, end_node = ox.get_nearest_node(G, start_coords), ox.get_nearest_node(G, end_coords)\n",
    "                        original_start_node, original_end_node = df_row[\"leg_list\"][leg_no_old], df_row[\"leg_list\"][tpl[0]]\n",
    "                        original_start_coords = (G.nodes[original_start_node][\"y\"], G.nodes[original_start_node][\"x\"])\n",
    "                        original_end_coords = (G.nodes[original_end_node][\"y\"], G.nodes[original_end_node][\"x\"])\n",
    "                        \n",
    "\n",
    "                        # extract relevant leg information from TomTomData\n",
    "                        start_leg = leg_no_old\n",
    "                        leg_data = data[\"routes\"][0][\"legs\"][start_leg][\"summary\"]\n",
    "                        leg_length = leg_data[\"lengthInMeters\"]\n",
    "                        leg_dt = parse(leg_data[\"departureTime\"])\n",
    "                        leg_dt_rounded = round_time(leg_dt)\n",
    "                        travelTimeInSeconds = leg_data[\"travelTimeInSeconds\"]\n",
    "                        trafficDelayInSeconds = leg_data[\"trafficDelayInSeconds\"]\n",
    "                        noTrafficTravelTimeInSeconds = leg_data[\"noTrafficTravelTimeInSeconds\"]\n",
    "                        historicTrafficTravelTimeInSeconds = leg_data[\"historicTrafficTravelTimeInSeconds\"]\n",
    "                        \n",
    "                        if nx.has_path(G, original_start_node, original_end_node):\n",
    "                            network_dist = nx.shortest_path_length(G, original_start_node, original_end_node, weight=\"length\")\n",
    "                            \n",
    "\n",
    "\n",
    "                            new_dist = 0\n",
    "                            if abs(1 - network_dist/leg_length) <= 0.1:\n",
    "                                nodes_along_path = nx.shortest_path(G, original_start_node, original_end_node, weight=\"length\")\n",
    "                                visited_paths.append(nodes_along_path)\n",
    "\n",
    "                                \n",
    "                                foundLegsCounter += 1\n",
    "                                data_dict = {}\n",
    "                                data_dict[leg_dt_rounded] = {\"travelTimeInSeconds\": travelTimeInSeconds,\n",
    "                                                            \"trafficDelayInSeconds\": trafficDelayInSeconds,\n",
    "                                                            \"noTrafficTravelTimeInSeconds\": noTrafficTravelTimeInSeconds,\n",
    "                                                            \"historicTrafficTravelTimeInSeconds\": historicTrafficTravelTimeInSeconds,\n",
    "                                                             \"travelSpeed\":  (leg_length/1000) / (travelTimeInSeconds/3600),\n",
    "                                                             \"noTrafficTravelSpeed\": (leg_length/1000) / (noTrafficTravelTimeInSeconds/3600),\n",
    "                                                             \"historicTravelSpeed\": (leg_length/1000) / (historicTrafficTravelTimeInSeconds/3600)\n",
    "                                                            }\n",
    "                                \n",
    "                                pathGraph = nx.path_graph(nodes_along_path)  # does not pass edges attributes\n",
    "\n",
    "                                # Read attributes from each edge\n",
    "                    \n",
    "#################################################################################################################\n",
    "                                ########### TODO\n",
    "                                ########### Adjust travelTimeInSeconds with edge length\n",
    "                                ########### travelTimeInSeconds = travelTimeInSeconds * (edgeLength / leg_length)\n",
    "                                ########### TODO\n",
    "#################################################################################################################\n",
    "                                for ea in pathGraph.edges():\n",
    "                                    edge = (*ea, 0) # edges need to be of type (u,v, 0)\n",
    "                                    edgeLength = G.edges[edge][\"length\"]\n",
    "                                    edge_dict = data_dict.copy()\n",
    "                    \n",
    "                                    metersPerSecondTravelSpeed = edge_dict[leg_dt_rounded][\"travelSpeed\"] * 1000 / 60 / 60\n",
    "                                    metersPerSecondNoTraffic = edge_dict[leg_dt_rounded][\"noTrafficTravelSpeed\"] * 1000 / 60 / 60\n",
    "                                    metersPerSecondHistoric = edge_dict[leg_dt_rounded][\"historicTravelSpeed\"] * 1000 / 60 / 60\n",
    "                                \n",
    "                                    edge_dict[leg_dt_rounded][\"travelTimeInSeconds\"] = edgeLength / metersPerSecondTravelSpeed\n",
    "                                    edge_dict[leg_dt_rounded][\"noTrafficTravelTimeInSeconds\"] = edgeLength / metersPerSecondNoTraffic\n",
    "                                    edge_dict[leg_dt_rounded][\"historicTrafficTravelTimeInSeconds\"] = edgeLength / metersPerSecondHistoric\n",
    "                                    edge_dict[leg_dt_rounded][\"trafficDelayInSeconds\"] = edge_dict[leg_dt_rounded][\"travelTimeInSeconds\"] - edge_dict[leg_dt_rounded][\"noTrafficTravelTimeInSeconds\"]\n",
    "                                    \n",
    "                                    if edge in attribute_dict:\n",
    "                                        existing_data_dict = attribute_dict[edge]\n",
    "                                        existing_data_dict.update(edge_dict)\n",
    "                                    else:\n",
    "                                        attribute_dict[edge] = edge_dict\n",
    "                                \n",
    "\n",
    "                        # END DEBUGGING\n",
    "\n",
    "                    start_tpl_idx = idx\n",
    "                    section_no_old = tpl[3]\n",
    "                    leg_no_old = tpl[0]\n",
    "                    all_counter += 1\n",
    "    except nx.NetworkXNoPath:\n",
    "        print(start_node, end_node, leg_length)#\n",
    "        print(start_coords, end_coords)\n",
    "        fail_list_start.append(start_node)\n",
    "        fail_list_end.append(end_node)\n",
    "    \n",
    "#     print(f, leg_counter)\n",
    "#     print(\"---\"*30)\n",
    "\n",
    "print(foundLegsCounter, all_counter, foundLegsCounter/all_counter)"
   ]
  },
  {
   "cell_type": "code",
   "execution_count": null,
   "metadata": {},
   "outputs": [],
   "source": [
    "# DONT COMMENT THIS OUT!\n",
    "# For whatever reason, if graph contains duplicate nodes, the attribute has first be set None before assigning attributes via dictionary\n",
    "nx.set_edge_attributes(G, None, \"tomtomData\")\n",
    "nx.set_edge_attributes(G, attribute_dict, \"tomtomData\")"
   ]
  },
  {
   "cell_type": "markdown",
   "metadata": {},
   "source": [
    "## Visualize coverage of methodology"
   ]
  },
  {
   "cell_type": "code",
   "execution_count": null,
   "metadata": {},
   "outputs": [],
   "source": [
    "nx.set_edge_attributes(G, 0, \"visited\")\n",
    "for route in visited_paths:\n",
    "    for i in range(len(route) - 1):\n",
    "        G.edges[(route[i], route[i+1], 0)][\"visited\"] = 1\n",
    "        "
   ]
  },
  {
   "cell_type": "code",
   "execution_count": null,
   "metadata": {},
   "outputs": [],
   "source": [
    "ec = ox.plot.get_edge_colors_by_attr(G, attr='visited', cmap='plasma', na_color=\"red\")\n",
    "fig, ax = ox.plot_graph(G, edge_color=ec, edge_linewidth=1, node_size=0, figsize=(30,30))\n",
    "#fig.savefig(\"test.png\", dpi=1000)"
   ]
  },
  {
   "cell_type": "code",
   "execution_count": null,
   "metadata": {},
   "outputs": [],
   "source": [
    "motorway_edges_total = 0\n",
    "motorway_edges_visited = 0\n",
    "for e, visited in nx.get_edge_attributes(G,\"visited\").items():\n",
    "    if G.edges[e][\"highway\"] == \"motorway\":\n",
    "        motorway_edges_total += 1\n",
    "        if visited:\n",
    "            motorway_edges_visited += 1\n",
    "            \n",
    "pct_visited = motorway_edges_visited/motorway_edges_total * 100\n",
    "print(\"Percentage of edges visited by logic: \", pct_visited)"
   ]
  },
  {
   "cell_type": "code",
   "execution_count": null,
   "metadata": {},
   "outputs": [],
   "source": [
    "motorway_length_total = 0\n",
    "motorway_length_visited = 0\n",
    "for e, visited in nx.get_edge_attributes(G,\"visited\").items():\n",
    "    if G.edges[e][\"highway\"] == \"motorway\":\n",
    "        motorway_length_total +=  G.edges[e][\"length\"]\n",
    "        if visited:\n",
    "            motorway_length_visited += G.edges[e][\"length\"]\n",
    "            \n",
    "pct_visited = motorway_length_visited/motorway_length_total * 100\n",
    "print(\"Percentage of motorway network visited by logic: \", pct_visited)\n",
    "print(\"Total Motorway Length:\", motorway_length_total, \"Length of motorway visited: \", motorway_length_visited)"
   ]
  },
  {
   "cell_type": "code",
   "execution_count": null,
   "metadata": {},
   "outputs": [],
   "source": [
    "reqAttr = \"travelSpeed\"\n",
    "reqTime = \"15:30\"\n",
    "\n",
    "ec, bin_colors, intervals = get_edge_colors_by_TomTom_Attribute(G, cmap=\"plasma\", requestedAttribute=reqAttr, requestedTime=reqTime, na_color=\"none\", num_bins=10, equal_size=True)\n",
    "fig, ax = ox.plot_graph(G, edge_color=ec, edge_linewidth=1, node_size=0, figsize=(12,12), bgcolor = \"#061529\")\n",
    "\n",
    "fontsize = 8\n",
    "custom_patches = []\n",
    "for idx, c in enumerate(bin_colors):\n",
    "    label_str = str(round(intervals[idx],2)) + \" km/h\" + \" - \" + str(round(intervals[idx+1],2)) + \" km/h\"\n",
    "    custom_patches.append(mpatches.Patch(color=c, label=label_str))\n",
    "\n",
    "# for reference: https://towardsdatascience.com/making-artistic-maps-with-python-9d37f5ea8af0\n",
    "l = ax.legend(handles=custom_patches, frameon=True, ncol=1,\n",
    "              facecolor = '#061529', framealpha = 0.9,\n",
    "              loc='upper right',  fontsize = fontsize, prop={'family':\"Georgia\", 'size':fontsize})\n",
    "# Legend font color\n",
    "for text in l.get_texts():\n",
    "    text.set_color(\"w\")\n",
    "    \n",
    "# Save figure\n",
    "fig.suptitle(f'Bavarian Motorway Network \"{reqAttr}\" at {reqTime}', fontsize=20, color=\"black\", y=0.92)\n",
    "fname = \"Network_{}_{}.png\".format(reqAttr, reqTime.replace(\":\", \"_\"))\n",
    "fig.savefig(fname, dpi=300, bbox_inches='tight', format=\"png\", facecolor=fig.get_facecolor(), transparent=False)"
   ]
  },
  {
   "cell_type": "markdown",
   "metadata": {},
   "source": [
    "## Analysis ungewichtet"
   ]
  },
  {
   "cell_type": "code",
   "execution_count": null,
   "metadata": {},
   "outputs": [],
   "source": [
    "def get_edge_TomTom_Attribute(requestedTime=\"16:00\", requestedAttribute=\"travelSpeed\"):\n",
    "\n",
    "    out = {}\n",
    "    \n",
    "    edge_info = {k:v for k,v in nx.get_edge_attributes(G, \"tomtomData\").items()}\n",
    "    for edge, data in edge_info.items():\n",
    "        if not bool(data):\n",
    "            out.update({edge: None})\n",
    "        else:\n",
    "            if requestedTime in data:\n",
    "                out.update({edge: data[requestedTime][requestedAttribute]})\n",
    "            else:\n",
    "                out.update({edge: None})\n",
    "    \n",
    "    return out"
   ]
  },
  {
   "cell_type": "code",
   "execution_count": null,
   "metadata": {},
   "outputs": [],
   "source": [
    "def getSpeedLimitFromList(l):\n",
    "    int_speeds = []\n",
    "    for val in l:\n",
    "        if val != \"none\" and val != \"signals\":\n",
    "            int_speeds.append(int(val))\n",
    "\n",
    "    if len(int_speeds) > 0:\n",
    "        speedlimit = max(int_speeds)\n",
    "    else:\n",
    "        return 10000\n",
    "    \n",
    "    return speedlimit"
   ]
  },
  {
   "cell_type": "code",
   "execution_count": null,
   "metadata": {},
   "outputs": [],
   "source": [
    "motorway_length_total = 0\n",
    "motorway_length_unrestricted = 0\n",
    "for e, maxspeed in nx.get_edge_attributes(G,\"maxspeed\").items():\n",
    "    if G.edges[e][\"highway\"] == \"motorway\":\n",
    "        if maxspeed == \"none\":\n",
    "            motorway_length_unrestricted += G.edges[e][\"length\"]\n",
    "        \n",
    "        motorway_length_total +=  G.edges[e][\"length\"]\n",
    "            \n",
    "pct_unrestricted = motorway_length_unrestricted/motorway_length_total * 100\n",
    "print(\"Percentage of motorway network that is unrestricted: \", pct_unrestricted)\n",
    "print(\"Total Motorway Length:\", motorway_length_total, \"Length of motorway unrestricted: \", motorway_length_unrestricted) "
   ]
  },
  {
   "cell_type": "code",
   "execution_count": null,
   "metadata": {},
   "outputs": [],
   "source": [
    "threshold = 120\n",
    "\n",
    "motorway_length_total = 0\n",
    "motorway_length_under_threshold = 0\n",
    "motorway_length_above_threshold = 0\n",
    "\n",
    "for e, speedlimit in nx.get_edge_attributes(G,\"maxspeed\").items():\n",
    "    if G.edges[e][\"highway\"] == \"motorway\":\n",
    "        \n",
    "        if speedlimit == \"none\":\n",
    "            speedlimit = 10000\n",
    "        if speedlimit == \"signals\":\n",
    "            speedlimit = 120 # assumption\n",
    "        if isinstance(speedlimit, list):\n",
    "            speedlimit = getSpeedLimitFromList(speedlimit)\n",
    "    \n",
    "        if int(speedlimit) <= threshold:\n",
    "            motorway_length_under_threshold += G.edges[e][\"length\"]\n",
    "        else:\n",
    "            motorway_length_above_threshold += G.edges[e][\"length\"]\n",
    "\n",
    "\n",
    "        motorway_length_total +=  G.edges[e][\"length\"]\n",
    "            \n",
    "pct_under_threshold = motorway_length_under_threshold/motorway_length_total * 100\n",
    "pct_above_threshold = motorway_length_above_threshold/motorway_length_total * 100\n",
    "print(f\"Percentage of motorway network where speedlimit is under or at threshold of {threshold} km/h: \", pct_under_threshold)\n",
    "print(f\"Percentage of motorway network that would be affected by speedlimit of {threshold} km/h: \", pct_above_threshold)\n",
    "print(\"Total Motorway Length:\", motorway_length_total, f\"Length of motorway where speedlimit is under or at threshold of {threshold} km/h: \", motorway_length_under_threshold) "
   ]
  },
  {
   "cell_type": "code",
   "execution_count": null,
   "metadata": {},
   "outputs": [],
   "source": [
    "reqTime = \"12:30\"\n",
    "thresholdAttribute = \"historicTravelSpeed\"\n",
    "threshold = 120\n",
    "\n",
    "edgesForcedUnderSpeedlimit = []\n",
    "edgesPotentiallyRestricted = []\n",
    "\n",
    "motorway_length_total = 0\n",
    "motorway_length_where_speed_externally_forced_under_limit = 0\n",
    "motorway_length_where_speed_not_externally_decreased = 0\n",
    "motorway_length_above_speedLimit = 0\n",
    "motorway_length_restricted = 0\n",
    "\n",
    "for e, speedlimit in nx.get_edge_attributes(G,\"maxspeed\").items():\n",
    "    if G.edges[e][\"highway\"] == \"motorway\":\n",
    "        if G.edges[e][\"tomtomData\"] is None or reqTime not in G.edges[e][\"tomtomData\"]:\n",
    "            continue\n",
    "        travelSpeed = G.edges[e][\"tomtomData\"][reqTime][thresholdAttribute]\n",
    "        noTrafficTravelSpeed = G.edges[e][\"tomtomData\"][reqTime][\"noTrafficTravelSpeed\"]\n",
    "        trafficDelay = G.edges[e][\"tomtomData\"][reqTime][\"historicTrafficTravelTimeInSeconds\"] - G.edges[e][\"tomtomData\"][reqTime][\"noTrafficTravelTimeInSeconds\"]\n",
    "        \n",
    "        if speedlimit == \"none\":\n",
    "            speedlimit = 10000\n",
    "        if speedlimit == \"signals\":\n",
    "            speedlimit = 120 # assumption\n",
    "        if isinstance(speedlimit, list):\n",
    "            speedlimit = getSpeedLimitFromList(speedlimit)\n",
    "        \n",
    "        n1,n2, _ = e\n",
    "        if int(speedlimit) > travelSpeed and trafficDelay > 0:\n",
    "            motorway_length_where_speed_externally_forced_under_limit += G.edges[e][\"length\"]\n",
    "            edgesForcedUnderSpeedlimit.append((n1,n2))\n",
    "        else:\n",
    "            motorway_length_where_speed_not_externally_decreased += G.edges[e][\"length\"]\n",
    "            if int(speedlimit) > threshold:\n",
    "                edgesPotentiallyRestricted.append((n1,n2))\n",
    "                motorway_length_restricted += G.edges[e][\"length\"]\n",
    "\n",
    "        motorway_length_total +=  G.edges[e][\"length\"]          \n",
    "\n",
    "pct_under_speedLimit = motorway_length_where_speed_externally_forced_under_limit/motorway_length_total * 100\n",
    "pct_above_speedLimit = motorway_length_where_speed_not_externally_decreased/motorway_length_total * 100\n",
    "pct_that_would_be_restricted = motorway_length_restricted/motorway_length_total * 100\n",
    "print(f\"Percentage of motorway network where {thresholdAttribute} is externally forced under speedlimit at {reqTime}: \", pct_under_speedLimit)\n",
    "print(\"Percentage of motorway network that is not externally forced under speedLimit: \", pct_above_speedLimit)\n",
    "print(f\"Percentage of motorway network that is not externally forced under speedLimit but would be restricted by threshold of {threshold}km/h: \", pct_that_would_be_restricted)\n",
    "print(\"Total Motorway Length:\", motorway_length_total, f\"Length of motorway where {thresholdAttribute} is forced under speed limit at {reqTime}: \", motorway_length_where_speed_externally_forced_under_limit) \n",
    "\n",
    "plotRelevantEdges(edgesForcedUnderSpeedlimit)"
   ]
  },
  {
   "cell_type": "code",
   "execution_count": null,
   "metadata": {},
   "outputs": [],
   "source": [
    "def calculateEnergyConsumptionFactor(kmh, cartype=\"mini\", fueltype=\"petroleum\"):\n",
    "    '''\n",
    "    Data Source: COPERT\n",
    "    '''\n",
    "    \n",
    "    cartype = cartype.lower()\n",
    "    fueltype = fueltype.lower()\n",
    "    \n",
    "    if fueltype == \"benzin\":\n",
    "        fueltype = \"petroleum\"\n",
    "    \n",
    "    ### PETROLEUM CARS\n",
    "    \n",
    "    if cartype == \"mini\" and fueltype == \"petroleum\":\n",
    "        Alpha, Beta, Gamma, Delta, Epsilon, Zita, Hta = 0.0050823704040405, -0.2720371338060150, 17.9186136039889000, 0.0000000000003375, 0.0008372940477115, 0.0971261095345315, 3.7213068787177500\n",
    "        ReductionFactor = 0.0\n",
    "        return (Alpha*kmh**2 + Beta*kmh + Gamma + (Delta/kmh) ) / (Epsilon*kmh**2 + Zita*kmh + Hta) * (1-ReductionFactor)\n",
    "    \n",
    "    \n",
    "    if cartype == \"small\" and fueltype == \"petroleum\":\n",
    "        Alpha, Beta, Gamma, Delta, Epsilon, Zita, Hta = 0.004797387395636090, -0.253329624090869000, 20.951609322668900000, 0.000000000000254117, 0.000800882509437353, 0.091328707216536800, 3.512642585251470000\n",
    "        ReductionFactor = 0.0\n",
    "        return (Alpha*kmh**2 + Beta*kmh + Gamma + (Delta/kmh) ) / (Epsilon*kmh**2 + Zita*kmh + Hta) * (1-ReductionFactor)\n",
    "    \n",
    "    if cartype == \"medium\" and fueltype == \"petroleum\":\n",
    "        Alpha, Beta, Gamma, Delta, Epsilon, Zita, Hta = 0.00013172300677853800000, 0.00548595929528390000000, 2.61919505125660000000000, 0.00000000172774612390592, -0.00008504150126997990000, 0.02358438406740600000000, 0.34429757783387900000000\n",
    "        ReductionFactor = 0.0\n",
    "        return (Alpha*kmh**2 + Beta*kmh + Gamma + (Delta/kmh) ) / (Epsilon*kmh**2 + Zita*kmh + Hta) * (1-ReductionFactor)\n",
    "    \n",
    "\n",
    "    if (cartype == \"large\" or cartype == \"SUV\" or cartype == \"Executive\") and fueltype == \"petroleum\":\n",
    "        Alpha, Beta, Gamma, Delta, Epsilon, Zita, Hta = 0.00000000000069991943473, -0.00156189755234097000000, 3.24524613527012000000000, 0.00000000285012757206809, -0.00010820134286967400000, 0.01893523507065330000000, 0.26009938300687900000000\n",
    "        ReductionFactor = 0.0\n",
    "        return (Alpha*kmh**2 + Beta*kmh + Gamma + (Delta/kmh) ) / (Epsilon*kmh**2 + Zita*kmh + Hta) * (1-ReductionFactor)\n",
    "    \n",
    "    \n",
    "    ### DIESEL CARS\n",
    "    \n",
    "    if cartype == \"mini\" and fueltype == \"diesel\":\n",
    "        Alpha, Beta, Gamma, Delta, Epsilon, Zita, Hta = 0.00921573924975886, 0.11073457438445200, 18.21292341849570000, -0.00000000000655600, 0.00129254380976794, 0.63134153084374500, 0.85316423086964100\n",
    "\n",
    "        ReductionFactor = 0.0\n",
    "        return (Alpha*kmh**2 + Beta*kmh + Gamma + (Delta/kmh) ) / (Epsilon*kmh**2 + Zita*kmh + Hta) * (1-ReductionFactor)\n",
    "    \n",
    "    if (cartype == \"small\" or cartype == \"medium\") and fueltype == \"diesel\":\n",
    "        Alpha, Beta, Gamma, Delta, Epsilon, Zita, Hta = -0.00129911063069031000000, 0.22162498920771300000000, 16.43591461206050000000000, 0.00000000566298857668099, -0.00184467928314896000000, 0.29234727596213400000000, 2.37716402519569000000000\n",
    "\n",
    "        ReductionFactor = 0.0\n",
    "        return (Alpha*kmh**2 + Beta*kmh + Gamma + (Delta/kmh) ) / (Epsilon*kmh**2 + Zita*kmh + Hta) * (1-ReductionFactor)\n",
    "    \n",
    "    if (cartype == \"large\" or cartype == \"SUV\" or cartype == \"Executive\") and fueltype == \"diesel\":\n",
    "        Alpha, Beta, Gamma, Delta, Epsilon, Zita, Hta = 0.000702861932235801, 0.013172543727278600, 13.711782089412000000, 0.000000000036243644, -0.000547098595260300, 0.118483099395406000, 1.647887335126100000\n",
    "\n",
    "        ReductionFactor = 0.0\n",
    "        return (Alpha*kmh**2 + Beta*kmh + Gamma + (Delta/kmh) ) / (Epsilon*kmh**2 + Zita*kmh + Hta) * (1-ReductionFactor)"
   ]
  },
  {
   "cell_type": "code",
   "execution_count": null,
   "metadata": {},
   "outputs": [],
   "source": [
    "def plotSingleECF(cartype, fueltype, minspeed=10, maxspeed=130, stepsize=5):\n",
    "\n",
    "    x = [x for x in range(minspeed, maxspeed, stepsize)]\n",
    "    y = [calculateEnergyConsumptionFactor(y, cartype=cartype, fueltype=fueltype) for y in x]\n",
    "\n",
    "    # Plot\n",
    "    plt.plot(x, y, \"-o\", alpha=0.5)\n",
    "    plt.title(f'ECF for {fueltype} vehicles of category {cartype}')\n",
    "    plt.xlabel('Velocity [km/h]')\n",
    "    plt.ylabel('Energy Conversion Factor [MJ/km]')\n",
    "    plt.show()"
   ]
  },
  {
   "cell_type": "code",
   "execution_count": null,
   "metadata": {},
   "outputs": [],
   "source": [
    "plotSingleECF(cartype=\"mini\", fueltype=\"petroleum\")"
   ]
  },
  {
   "cell_type": "code",
   "execution_count": null,
   "metadata": {},
   "outputs": [],
   "source": [
    "# DIESEL\n",
    "minspeed=10\n",
    "maxspeed=130\n",
    "stepsize=5\n",
    "\n",
    "fueltype = \"petroleum\"\n",
    "\n",
    "# Data\n",
    "df=pd.DataFrame({'x': range(minspeed,maxspeed, stepsize), \n",
    "                 'cars_mini': [calculateEnergyConsumptionFactor(x, cartype=\"mini\", fueltype=fueltype) for x in range(minspeed,maxspeed, stepsize)], \n",
    "                 'cars_small': [calculateEnergyConsumptionFactor(x, cartype=\"small\", fueltype=fueltype) for x in range(minspeed,maxspeed, stepsize)],\n",
    "                 'cars_medium': [calculateEnergyConsumptionFactor(x, cartype=\"medium\", fueltype=fueltype) for x in range(minspeed,maxspeed, stepsize)],\n",
    "                 'cars_large': [calculateEnergyConsumptionFactor(x, cartype=\"large\", fueltype=fueltype) for x in range(minspeed,maxspeed, stepsize)]\n",
    "                })\n",
    " \n",
    "# multiple line plot\n",
    "fig, ax = plt.subplots(figsize=(12,12))\n",
    "\n",
    "ax.plot( 'x', 'cars_mini', data=df, marker='o', markersize=5, color='skyblue')\n",
    "ax.plot( 'x', 'cars_small', data=df, marker='X', markersize=5, color='olive')\n",
    "ax.plot( 'x', 'cars_medium', data=df, marker='D', markersize=5, color='green')\n",
    "ax.plot( 'x', 'cars_large', data=df, marker='.', markersize=5, color='darkred')\n",
    "\n",
    "    \n",
    "plt.legend(loc=1)\n",
    "\n",
    "plt.title(f'ECF for different diesel powered vehicle categories')\n",
    "plt.xlabel('Velocity [km/h]')\n",
    "plt.ylabel('Energy Consumption Factor [MJ/km]')\n",
    "plt.show()"
   ]
  },
  {
   "cell_type": "code",
   "execution_count": null,
   "metadata": {},
   "outputs": [],
   "source": [
    "# DIESEL\n",
    "minspeed=10\n",
    "maxspeed=130\n",
    "stepsize=5\n",
    "\n",
    "fueltype = \"diesel\"\n",
    "\n",
    "# Data\n",
    "df=pd.DataFrame({'x': range(minspeed,maxspeed, stepsize), \n",
    "                 'cars_mini': [calculateEnergyConsumptionFactor(x, cartype=\"mini\", fueltype=fueltype) for x in range(minspeed,maxspeed, stepsize)], \n",
    "                 'cars_small': [calculateEnergyConsumptionFactor(x, cartype=\"small\", fueltype=fueltype) for x in range(minspeed,maxspeed, stepsize)],\n",
    "                 'cars_medium': [calculateEnergyConsumptionFactor(x, cartype=\"medium\", fueltype=fueltype) for x in range(minspeed,maxspeed, stepsize)],\n",
    "                 'cars_large': [calculateEnergyConsumptionFactor(x, cartype=\"large\", fueltype=fueltype) for x in range(minspeed,maxspeed, stepsize)]\n",
    "                })\n",
    " \n",
    "# multiple line plot\n",
    "fig, ax = plt.subplots(figsize=(12,12))\n",
    "\n",
    "ax.plot( 'x', 'cars_mini', data=df, marker='o', markersize=5, color='skyblue')\n",
    "ax.plot( 'x', 'cars_small', data=df, marker='X', markersize=5, color='olive')\n",
    "ax.plot( 'x', 'cars_medium', data=df, marker='D', markersize=5, color='green')\n",
    "ax.plot( 'x', 'cars_large', data=df, marker='.', markersize=5, color='darkred')\n",
    "\n",
    "    \n",
    "plt.legend(loc=1)\n",
    "\n",
    "plt.title(f'ECF for different diesel powered vehicle categories')\n",
    "plt.xlabel('Velocity [km/h]')\n",
    "plt.ylabel('Energy Consumption Factor [MJ/km]')\n",
    "plt.show()"
   ]
  },
  {
   "cell_type": "code",
   "execution_count": null,
   "metadata": {},
   "outputs": [],
   "source": [
    "# BOTH\n",
    "minspeed=10\n",
    "maxspeed=130\n",
    "stepsize=5\n",
    "\n",
    "\n",
    "\n",
    "# Data\n",
    "df=pd.DataFrame({'x': range(minspeed,maxspeed, stepsize), \n",
    "                 'diesel_cars_mini': [calculateEnergyConsumptionFactor(x, cartype=\"mini\", fueltype=\"diesel\") for x in range(minspeed,maxspeed, stepsize)], \n",
    "                 'diesel_cars_small': [calculateEnergyConsumptionFactor(x, cartype=\"small\", fueltype=\"diesel\") for x in range(minspeed,maxspeed, stepsize)],\n",
    "                 'diesel_cars_medium': [calculateEnergyConsumptionFactor(x, cartype=\"medium\", fueltype=\"diesel\") for x in range(minspeed,maxspeed, stepsize)],\n",
    "                 'diesel_cars_large': [calculateEnergyConsumptionFactor(x, cartype=\"large\", fueltype=\"diesel\") for x in range(minspeed,maxspeed, stepsize)],\n",
    "                 'petroleum_cars_mini': [calculateEnergyConsumptionFactor(x, cartype=\"mini\", fueltype=\"petroleum\") for x in range(minspeed,maxspeed, stepsize)], \n",
    "                 'petroleum_cars_small': [calculateEnergyConsumptionFactor(x, cartype=\"small\", fueltype=\"petroleum\") for x in range(minspeed,maxspeed, stepsize)],\n",
    "                 'petroleum_cars_medium': [calculateEnergyConsumptionFactor(x, cartype=\"medium\", fueltype=\"petroleum\") for x in range(minspeed,maxspeed, stepsize)],\n",
    "                 'petroleum_cars_large': [calculateEnergyConsumptionFactor(x, cartype=\"large\", fueltype=\"petroleum\") for x in range(minspeed,maxspeed, stepsize)]\n",
    "                })\n",
    " \n",
    "# multiple line plot\n",
    "fig, ax = plt.subplots(figsize=(12,12))\n",
    "\n",
    "ax.plot( 'x', 'diesel_cars_large', data=df, marker='x', markersize=5, color='darkred')\n",
    "ax.plot( 'x', 'diesel_cars_medium', data=df, marker='x', markersize=5, color='green')\n",
    "ax.plot( 'x', 'diesel_cars_small', data=df, marker='x', markersize=5, color='olive')\n",
    "ax.plot( 'x', 'diesel_cars_mini', data=df, marker='x', markersize=5, color='skyblue')\n",
    "\n",
    "\n",
    "ax.plot( 'x', 'petroleum_cars_large', data=df, marker='o', markersize=5, color='darkred')\n",
    "ax.plot( 'x', 'petroleum_cars_medium', data=df, marker='o', markersize=5, color='green')\n",
    "ax.plot( 'x', 'petroleum_cars_small', data=df, marker='o', markersize=5, color='olive')\n",
    "ax.plot( 'x', 'petroleum_cars_mini', data=df, marker='o', markersize=5, color='skyblue')\n",
    "\n",
    "\n",
    "\n",
    "\n",
    "    \n",
    "plt.legend(loc=1)\n",
    "\n",
    "plt.title(f'ECF for different vehicle categories and engine types')\n",
    "plt.xlabel('Velocity [km/h]')\n",
    "plt.ylabel('Energy Consumption Factor [MJ/km]')\n",
    "plt.show()"
   ]
  },
  {
   "cell_type": "code",
   "execution_count": null,
   "metadata": {},
   "outputs": [],
   "source": [
    "def calculateCO2eFromECF(ecf, numcars=1, fueltype=\"diesel\"):\n",
    "    '''\n",
    "    Returns grams of CO2e generated per kilometer\n",
    "    '''\n",
    "    \n",
    "    # Source: DIN EN 16258:2013-03\n",
    "    CO2eGramsPerMJ_diesel = 71.0 # 1 Megajoule of Diesel E5 produces 71.0 grams of CO2e Tank-To-Wheel\n",
    "    CO2eGramsPerMJ_petroleum = 75.2\n",
    "    \n",
    "    fueltype = fueltype.lower()\n",
    "    \n",
    "    if fueltype == \"diesel\":\n",
    "        return CO2eGramsPerMJ_diesel * ecf * numcars\n",
    "    elif fueltype == \"petroleum\" or fueltype == \"benzin\":\n",
    "        return CO2eGramsPerMJ_petroleum * ecf * numcars"
   ]
  },
  {
   "cell_type": "code",
   "execution_count": null,
   "metadata": {},
   "outputs": [],
   "source": [
    "distributionData = pd.read_csv(\"data/Verteilung_Fahrzeugklassen.csv\", sep=\";\", decimal=\",\")"
   ]
  },
  {
   "cell_type": "code",
   "execution_count": null,
   "metadata": {},
   "outputs": [],
   "source": [
    "distributionData"
   ]
  },
  {
   "cell_type": "code",
   "execution_count": null,
   "metadata": {},
   "outputs": [],
   "source": [
    "distrDf_grouped = distributionData.groupby([\"COPERT Typ\"]).sum().iloc[:, 3:5]"
   ]
  },
  {
   "cell_type": "code",
   "execution_count": null,
   "metadata": {},
   "outputs": [],
   "source": [
    "for e in G.edges():\n",
    "    if len(G.edges[(*e, 0)][\"tomtomData\"]) > 0:\n",
    "        print(e)\n",
    "        break"
   ]
  },
  {
   "cell_type": "code",
   "execution_count": null,
   "metadata": {},
   "outputs": [],
   "source": [
    "def calculateAvgHistTravelSpeed(e, threshold=10000):\n",
    "    avg = 0\n",
    "    counter = 0\n",
    "    if len(G.edges[(*e, 0)][\"tomtomData\"]) > 0:\n",
    "        for time, data in G.edges[(*e, 0)][\"tomtomData\"].items():\n",
    "            if data[\"historicTravelSpeed\"] > threshold:\n",
    "                avg += threshold\n",
    "            else:\n",
    "                avg += data[\"historicTravelSpeed\"]\n",
    "            counter += 1\n",
    "    else:\n",
    "        return None\n",
    "    \n",
    "    return avg / counter\n"
   ]
  },
  {
   "cell_type": "code",
   "execution_count": null,
   "metadata": {},
   "outputs": [],
   "source": [
    "def calculateEdgeCO2e(e, restricted=False, threshold=120):\n",
    "    '''\n",
    "    Returns the total CO2e on any given edge in kilograms\n",
    "    '''\n",
    "    if restricted:\n",
    "        avgSpeed = calculateAvgHistTravelSpeed(e, threshold)\n",
    "    else:\n",
    "        avgSpeed = calculateAvgHistTravelSpeed(e)\n",
    "    \n",
    "    \n",
    "    carsOnEdge = G.edges[(*e, 0)][\"quantity_cars\"]\n",
    "    edgeLength = G.edges[(*e, 0)][\"length\"]\n",
    "    \n",
    "    totalCO2eOnEdge = 0\n",
    "    \n",
    "    if avgSpeed is not None:\n",
    "        if restricted and avgSpeed > threshold:\n",
    "            avgSpeed = threshold\n",
    "            \n",
    "        for idx, row in distrDf_grouped.iterrows():\n",
    "            carsInCategoryDiesel = carsOnEdge * row[\"Anteil in % 2020 Diesel\"]\n",
    "            carsInCategoryPetroleum = carsOnEdge * row[\"Anteil in % 2020 Benzin\"]\n",
    "            \n",
    "            ECF_diesel = calculateEnergyConsumptionFactor(avgSpeed, cartype=idx, fueltype=\"diesel\")\n",
    "            ECF_petroleum = calculateEnergyConsumptionFactor(avgSpeed, cartype=idx, fueltype=\"petroleum\")\n",
    "            \n",
    "            gramsCO2ePerKm_diesel = calculateCO2eFromECF(ECF_diesel, numcars=carsInCategoryDiesel, fueltype=\"diesel\")\n",
    "            gramsCO2ePerKm_petroleum = calculateCO2eFromECF(ECF_diesel, numcars=carsInCategoryPetroleum, fueltype=\"petroleum\")\n",
    "            \n",
    "            totalCO2eOnEdge += (gramsCO2ePerKm_diesel + gramsCO2ePerKm_petroleum) * (edgeLength / 1000)\n",
    "    \n",
    "    return totalCO2eOnEdge / 1000 # return in kilograms\n"
   ]
  },
  {
   "cell_type": "code",
   "execution_count": null,
   "metadata": {},
   "outputs": [],
   "source": [
    "calculateEdgeCO2e((266518531, 266518591), restricted=True)"
   ]
  },
  {
   "cell_type": "code",
   "execution_count": null,
   "metadata": {},
   "outputs": [],
   "source": [
    "totalCO2e = 0\n",
    "totalCO2e_restricted = 0\n",
    "for e in G.edges():\n",
    "    totalCO2e += calculateEdgeCO2e(e)\n",
    "    totalCO2e_restricted += calculateEdgeCO2e(e, restricted=True)\n",
    "    \n",
    "print (totalCO2e_restricted / totalCO2e)"
   ]
  },
  {
   "cell_type": "code",
   "execution_count": null,
   "metadata": {},
   "outputs": [],
   "source": [
    "totalCO2e - totalCO2e_restricted"
   ]
  },
  {
   "cell_type": "markdown",
   "metadata": {},
   "source": [
    "## Analysis Gewichtet"
   ]
  },
  {
   "cell_type": "code",
   "execution_count": null,
   "metadata": {},
   "outputs": [],
   "source": [
    "motorway_length_total = 0\n",
    "motorway_length_unrestricted = 0\n",
    "motorway_flow_unrestricted = 0\n",
    "flow_kilometers_unrestricted = 0\n",
    "total_flow_kilometers = 0\n",
    "\n",
    "totalCarQuantity = 0\n",
    "\n",
    "for e, maxspeed in nx.get_edge_attributes(G,\"maxspeed\").items():\n",
    "    if G.edges[e][\"highway\"] == \"motorway\":\n",
    "        if maxspeed == \"none\":\n",
    "            edge_car_quantity = G.edges[e][\"quantity_cars\"]\n",
    "            motorway_flow_unrestricted += edge_car_quantity\n",
    "            motorway_length_unrestricted += G.edges[e][\"length\"]\n",
    "            flow_kilometers_unrestricted += G.edges[e][\"length\"] * edge_car_quantity\n",
    "        \n",
    "        motorway_length_total +=  G.edges[e][\"length\"]\n",
    "        total_flow_kilometers += G.edges[e][\"length\"] * G.edges[e][\"quantity_cars\"]\n",
    "        totalCarQuantity += G.edges[e][\"quantity_cars\"]\n",
    "            \n",
    "pct_unrestricted = motorway_length_unrestricted/motorway_length_total * 100\n",
    "pct_flow_unrestricted = motorway_flow_unrestricted/totalCarQuantity * 100\n",
    "pct_flow_kilometers_unrestricted = flow_kilometers_unrestricted/total_flow_kilometers * 100\n",
    "print(\"Percentage of motorway network that is unrestricted: \", pct_unrestricted)\n",
    "print(\"Percentage of network flow that is unrestricted: \", pct_flow_unrestricted)\n",
    "print(\"Percentage of flow kilometers unrestricted: \", pct_flow_kilometers_unrestricted)"
   ]
  },
  {
   "cell_type": "code",
   "execution_count": null,
   "metadata": {},
   "outputs": [],
   "source": [
    "threshold = 120\n",
    "\n",
    "motorway_length_total = 0\n",
    "total_flow_kilometers = 0\n",
    "\n",
    "motorway_length_under_threshold = 0\n",
    "motorway_flow_under_threshold = 0\n",
    "flow_kilometers_under_threshold = 0\n",
    "\n",
    "motorway_length_above_threshold = 0\n",
    "motorway_flow_above_threshold = 0\n",
    "flow_kilometers_above_threshold = 0\n",
    "\n",
    "totalCarQuantity = 0\n",
    "\n",
    "for e, speedlimit in nx.get_edge_attributes(G,\"maxspeed\").items():\n",
    "    if G.edges[e][\"highway\"] == \"motorway\":\n",
    "        \n",
    "        if speedlimit == \"none\":\n",
    "            speedlimit = 10000\n",
    "        if speedlimit == \"signals\":\n",
    "            speedlimit = 120 # assumption\n",
    "        if isinstance(speedlimit, list):\n",
    "            speedlimit = getSpeedLimitFromList(speedlimit)\n",
    "    \n",
    "        if int(speedlimit) <= threshold:\n",
    "            motorway_length_under_threshold += G.edges[e][\"length\"]\n",
    "            motorway_flow_under_threshold += G.edges[e][\"quantity_cars\"]\n",
    "            flow_kilometers_under_threshold += G.edges[e][\"length\"] * G.edges[e][\"quantity_cars\"]\n",
    "            \n",
    "        else:\n",
    "            motorway_length_above_threshold += G.edges[e][\"length\"]\n",
    "            motorway_flow_above_threshold += G.edges[e][\"quantity_cars\"]\n",
    "            flow_kilometers_above_threshold += G.edges[e][\"length\"] * G.edges[e][\"quantity_cars\"]\n",
    "\n",
    "\n",
    "        motorway_length_total +=  G.edges[e][\"length\"]\n",
    "        total_flow_kilometers += G.edges[e][\"length\"] * G.edges[e][\"quantity_cars\"]\n",
    "        totalCarQuantity += G.edges[e][\"quantity_cars\"]\n",
    "            \n",
    "pct_under_threshold = motorway_length_under_threshold/motorway_length_total * 100\n",
    "pct_above_threshold = motorway_length_above_threshold/motorway_length_total * 100\n",
    "\n",
    "pct_flow_under_threshold = motorway_flow_under_threshold / totalCarQuantity * 100\n",
    "pct_flow_above_threshold = motorway_flow_above_threshold / totalCarQuantity * 100\n",
    "\n",
    "pct_flow_kilometers_under_threshold = flow_kilometers_under_threshold / total_flow_kilometers * 100\n",
    "pct_flow_kilometers_above_threshold = flow_kilometers_above_threshold / total_flow_kilometers * 100\n",
    "\n",
    "print(f\"Percentage of motorway network where speedlimit is under or at threshold of {threshold} km/h: \", pct_under_threshold)\n",
    "print(f\"Percentage of motorway network that would be affected by speedlimit of {threshold} km/h: \", pct_above_threshold)\n",
    "print(\"---\"*30)\n",
    "\n",
    "print(f\"Percentage of motorway network flow where speedlimit is under or at threshold of {threshold} km/h: \", pct_flow_under_threshold)\n",
    "print(f\"Percentage of motorway network flow where speedlimit is above threshold of {threshold} km/h: \", pct_flow_above_threshold)\n",
    "print(\"---\"*30)\n",
    "\n",
    "print(f\"Percentage of flow kilometers where speedlimit is under or at threshold of {threshold} km/h: \", pct_flow_kilometers_under_threshold)\n",
    "print(f\"Percentage of flow kilometers that would be affected by speedlimit of {threshold} km/h: \", pct_flow_kilometers_above_threshold)\n"
   ]
  },
  {
   "cell_type": "code",
   "execution_count": null,
   "metadata": {},
   "outputs": [],
   "source": [
    "reqTime = \"7:30\"\n",
    "thresholdAttribute = \"historicTravelSpeed\"\n",
    "threshold = 120\n",
    "\n",
    "edgesForcedUnderSpeedlimit = []\n",
    "edgesPotentiallyRestricted = []\n",
    "\n",
    "motorway_length_total = 0\n",
    "total_flow_kilometers = 0\n",
    "totalCarQuantity = 0\n",
    "\n",
    "motorway_length_where_speed_externally_forced_under_limit = 0\n",
    "motorway_flow_where_speed_externally_forced_under_limit = 0\n",
    "flow_kilometers_where_speed_externally_forced_under_limit = 0\n",
    "\n",
    "motorway_length_where_speed_not_externally_decreased = 0\n",
    "motorway_flow_where_speed_not_externally_decreased = 0\n",
    "flow_kilometers_where_speed_not_externally_decreased = 0\n",
    "\n",
    "motorway_length_restricted = 0\n",
    "motorway_flow_restricted = 0\n",
    "flow_kilometers_restricted = 0\n",
    "\n",
    "for e, speedlimit in nx.get_edge_attributes(G,\"maxspeed\").items():\n",
    "    if G.edges[e][\"highway\"] == \"motorway\":\n",
    "        if G.edges[e][\"tomtomData\"] is None or reqTime not in G.edges[e][\"tomtomData\"]:\n",
    "            continue\n",
    "        travelSpeed = G.edges[e][\"tomtomData\"][reqTime][thresholdAttribute]\n",
    "        noTrafficTravelSpeed = G.edges[e][\"tomtomData\"][reqTime][\"noTrafficTravelSpeed\"]\n",
    "        trafficDelay = G.edges[e][\"tomtomData\"][reqTime][\"historicTrafficTravelTimeInSeconds\"] - G.edges[e][\"tomtomData\"][reqTime][\"noTrafficTravelTimeInSeconds\"]\n",
    "        \n",
    "        if speedlimit == \"none\":\n",
    "            speedlimit = 10000\n",
    "        if speedlimit == \"signals\":\n",
    "            speedlimit = 120 # assumption\n",
    "        if isinstance(speedlimit, list):\n",
    "            speedlimit = getSpeedLimitFromList(speedlimit)\n",
    "        \n",
    "        n1,n2, _ = e\n",
    "        if int(speedlimit) > travelSpeed and trafficDelay > 0:\n",
    "            motorway_length_where_speed_externally_forced_under_limit += G.edges[e][\"length\"]\n",
    "            motorway_flow_where_speed_externally_forced_under_limit += G.edges[e][\"quantity_cars\"]\n",
    "            flow_kilometers_where_speed_externally_forced_under_limit += G.edges[e][\"length\"] * G.edges[e][\"quantity_cars\"]\n",
    "            \n",
    "            edgesForcedUnderSpeedlimit.append((n1,n2))\n",
    "        else:\n",
    "            motorway_length_where_speed_not_externally_decreased += G.edges[e][\"length\"]\n",
    "            motorway_flow_where_speed_not_externally_decreased += G.edges[e][\"quantity_cars\"]\n",
    "            flow_kilometers_where_speed_not_externally_decreased += G.edges[e][\"length\"] * G.edges[e][\"quantity_cars\"]\n",
    "            \n",
    "            if int(speedlimit) > threshold:\n",
    "                edgesPotentiallyRestricted.append((n1,n2))\n",
    "                motorway_length_restricted += G.edges[e][\"length\"]\n",
    "                motorway_flow_restricted += G.edges[e][\"quantity_cars\"]\n",
    "                flow_kilometers_restricted += G.edges[e][\"length\"] * G.edges[e][\"quantity_cars\"]\n",
    "\n",
    "        motorway_length_total +=  G.edges[e][\"length\"]\n",
    "        total_flow_kilometers += G.edges[e][\"length\"] * G.edges[e][\"quantity_cars\"]\n",
    "        totalCarQuantity += G.edges[e][\"quantity_cars\"]\n",
    "\n",
    "pct_under_speedLimit = motorway_length_where_speed_externally_forced_under_limit/motorway_length_total * 100\n",
    "pct_above_speedLimit = motorway_length_where_speed_not_externally_decreased/motorway_length_total * 100\n",
    "pct_that_would_be_restricted = motorway_length_restricted/motorway_length_total * 100\n",
    "\n",
    "pct_flow_under_speedLimit = motorway_flow_where_speed_externally_forced_under_limit/totalCarQuantity * 100\n",
    "pct_flow_above_speedLimit = motorway_flow_where_speed_not_externally_decreased/totalCarQuantity * 100\n",
    "pct_flow_that_would_be_restricted = motorway_flow_restricted/totalCarQuantity * 100\n",
    "\n",
    "pct_flow_kilometers_under_speedLimit = flow_kilometers_where_speed_externally_forced_under_limit/total_flow_kilometers * 100\n",
    "pct_flow_kilometers_above_speedLimit = flow_kilometers_where_speed_not_externally_decreased/total_flow_kilometers * 100\n",
    "pct_flow_kilometers_that_would_be_restricted = flow_kilometers_restricted/total_flow_kilometers * 100\n",
    "\n",
    "\n",
    "\n",
    "print(f\"Percentage of motorway network where {thresholdAttribute} is externally forced under speedlimit at {reqTime}: \", pct_under_speedLimit)\n",
    "print(\"Percentage of motorway network that is not externally forced under speedLimit: \", pct_above_speedLimit)\n",
    "print(f\"Percentage of motorway network that is not externally forced under speedLimit but would be restricted by threshold of {threshold}km/h: \", pct_that_would_be_restricted)\n",
    "print(\"---\"*30)\n",
    "\n",
    "print(f\"Percentage of motorway flow where {thresholdAttribute} is externally forced under speedlimit at {reqTime}: \", pct_flow_under_speedLimit)\n",
    "print(\"Percentage of motorway flow that is not externally forced under speedLimit: \", pct_flow_above_speedLimit)\n",
    "print(f\"Percentage of motorway flow that is not externally forced under speedLimit but would be restricted by threshold of {threshold}km/h: \", pct_flow_that_would_be_restricted)\n",
    "print(\"---\"*30)\n",
    "\n",
    "print(f\"Percentage of kilometers driven where {thresholdAttribute} is externally forced under speedlimit at {reqTime}: \", pct_flow_kilometers_under_speedLimit)\n",
    "print(\"Percentage of kilometers driven that is not externally forced under speedLimit: \", pct_flow_kilometers_above_speedLimit)\n",
    "print(f\"Percentage of kilometers driven that is not externally forced under speedLimit but would be restricted by threshold of {threshold}km/h: \", pct_flow_kilometers_that_would_be_restricted)\n",
    "print(\"---\"*30)\n",
    "\n",
    "plotRelevantEdges(edgesForcedUnderSpeedlimit)"
   ]
  },
  {
   "cell_type": "markdown",
   "metadata": {},
   "source": [
    "## Analysis CO2"
   ]
  },
  {
   "cell_type": "code",
   "execution_count": null,
   "metadata": {},
   "outputs": [],
   "source": [
    "#### WORK IN PROGRESS"
   ]
  },
  {
   "cell_type": "markdown",
   "metadata": {},
   "source": [
    "# NOTE TO SELF!!! Manche Motorway_links werden betrachtet, wenn Sie für einen Autobahnwechsel auf einer Route benötigt werden. Motorway_links, welche lediglich Auffahrten darstellen, werden allerdings nicht betrachtet."
   ]
  }
 ],
 "metadata": {
  "kernelspec": {
   "display_name": "Python 3",
   "language": "python",
   "name": "python3"
  },
  "language_info": {
   "codemirror_mode": {
    "name": "ipython",
    "version": 3
   },
   "file_extension": ".py",
   "mimetype": "text/x-python",
   "name": "python",
   "nbconvert_exporter": "python",
   "pygments_lexer": "ipython3",
   "version": "3.8.3"
  }
 },
 "nbformat": 4,
 "nbformat_minor": 4
}
